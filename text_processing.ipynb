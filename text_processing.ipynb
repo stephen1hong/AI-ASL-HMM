{
 "cells": [
  {
   "cell_type": "markdown",
   "metadata": {},
   "source": [
    "# Text Processing\n",
    "\n",
    "## Capturing Text Data\n",
    "\n",
    "### Plain Text"
   ]
  },
  {
   "cell_type": "code",
   "execution_count": 1,
   "metadata": {},
   "outputs": [
    {
     "name": "stdout",
     "output_type": "stream",
     "text": [
      "Hieroglyphic writing dates from c. 3000 BC, and is composed of hundreds of symbols. A hieroglyph can represent a word, a sound, or a silent determinative; and the same symbol can serve different purposes in different contexts. Hieroglyphs were a formal script, used on stone monuments and in tombs, that could be as detailed as individual works of art.\n",
      "\n"
     ]
    }
   ],
   "source": [
    "import os\n",
    "\n",
    "# Read in a plain text file\n",
    "with open(os.path.join(\"data\", \"hieroglyph.txt\"), \"r\") as f:\n",
    "    text = f.read()\n",
    "    print(text)"
   ]
  },
  {
   "cell_type": "markdown",
   "metadata": {},
   "source": [
    "### Tabular Data"
   ]
  },
  {
   "cell_type": "code",
   "execution_count": 2,
   "metadata": {
    "scrolled": true
   },
   "outputs": [
    {
     "data": {
      "text/html": [
       "<div>\n",
       "<style scoped>\n",
       "    .dataframe tbody tr th:only-of-type {\n",
       "        vertical-align: middle;\n",
       "    }\n",
       "\n",
       "    .dataframe tbody tr th {\n",
       "        vertical-align: top;\n",
       "    }\n",
       "\n",
       "    .dataframe thead th {\n",
       "        text-align: right;\n",
       "    }\n",
       "</style>\n",
       "<table border=\"1\" class=\"dataframe\">\n",
       "  <thead>\n",
       "    <tr style=\"text-align: right;\">\n",
       "      <th></th>\n",
       "      <th>publisher</th>\n",
       "      <th>title</th>\n",
       "    </tr>\n",
       "  </thead>\n",
       "  <tbody>\n",
       "    <tr>\n",
       "      <th>0</th>\n",
       "      <td>Livemint</td>\n",
       "      <td>fed's charles plosser sees high bar for change...</td>\n",
       "    </tr>\n",
       "    <tr>\n",
       "      <th>1</th>\n",
       "      <td>IFA Magazine</td>\n",
       "      <td>us open: stocks fall after fed official hints ...</td>\n",
       "    </tr>\n",
       "    <tr>\n",
       "      <th>2</th>\n",
       "      <td>IFA Magazine</td>\n",
       "      <td>fed risks falling 'behind the curve', charles ...</td>\n",
       "    </tr>\n",
       "    <tr>\n",
       "      <th>3</th>\n",
       "      <td>Moneynews</td>\n",
       "      <td>fed's plosser: nasty weather has curbed job gr...</td>\n",
       "    </tr>\n",
       "    <tr>\n",
       "      <th>4</th>\n",
       "      <td>NASDAQ</td>\n",
       "      <td>plosser: fed may have to accelerate tapering pace</td>\n",
       "    </tr>\n",
       "  </tbody>\n",
       "</table>\n",
       "</div>"
      ],
      "text/plain": [
       "      publisher                                              title\n",
       "0      Livemint  fed's charles plosser sees high bar for change...\n",
       "1  IFA Magazine  us open: stocks fall after fed official hints ...\n",
       "2  IFA Magazine  fed risks falling 'behind the curve', charles ...\n",
       "3     Moneynews  fed's plosser: nasty weather has curbed job gr...\n",
       "4        NASDAQ  plosser: fed may have to accelerate tapering pace"
      ]
     },
     "execution_count": 2,
     "metadata": {},
     "output_type": "execute_result"
    }
   ],
   "source": [
    "import pandas as pd\n",
    "\n",
    "# Extract text column from a dataframe\n",
    "df = pd.read_csv(os.path.join(\"data\", \"news.csv\"))\n",
    "df.head()[['publisher', 'title']]\n",
    "\n",
    "# Convert text column to lowercase\n",
    "df['title'] = df['title'].str.lower()\n",
    "df.head()[['publisher', 'title']]"
   ]
  },
  {
   "cell_type": "markdown",
   "metadata": {},
   "source": [
    "### Online Resource"
   ]
  },
  {
   "cell_type": "code",
   "execution_count": 3,
   "metadata": {
    "scrolled": true
   },
   "outputs": [
    {
     "name": "stdout",
     "output_type": "stream",
     "text": [
      "{\n",
      "    \"success\": {\n",
      "        \"total\": 1\n",
      "    },\n",
      "    \"contents\": {\n",
      "        \"quotes\": [\n",
      "            {\n",
      "                \"quote\": \"Feeling grateful to or appreciative of someone or something in your life actually attracts more of the things that you appreciate and value into your life.\",\n",
      "                \"author\": \"Christiane Northrup\",\n",
      "                \"length\": \"155\",\n",
      "                \"tags\": [\n",
      "                    \"grateful\",\n",
      "                    \"inspire\",\n",
      "                    \"tso-life\"\n",
      "                ],\n",
      "                \"category\": \"inspire\",\n",
      "                \"title\": \"Inspiring Quote of the day\",\n",
      "                \"date\": \"2019-03-18\",\n",
      "                \"id\": null\n",
      "            }\n",
      "        ],\n",
      "        \"copyright\": \"2017-19 theysaidso.com\"\n",
      "    }\n",
      "}\n",
      "Feeling grateful to or appreciative of someone or something in your life actually attracts more of the things that you appreciate and value into your life. \n",
      "-- Christiane Northrup\n"
     ]
    }
   ],
   "source": [
    "import requests\n",
    "import json\n",
    "\n",
    "# Fetch data from a REST API\n",
    "r = requests.get(\n",
    "    \"https://quotes.rest/qod.json\")\n",
    "res = r.json()\n",
    "print(json.dumps(res, indent=4))\n",
    "\n",
    "# Extract relevant object and field\n",
    "q = res[\"contents\"][\"quotes\"][0]\n",
    "print(q[\"quote\"], \"\\n--\", q[\"author\"])"
   ]
  },
  {
   "cell_type": "markdown",
   "metadata": {},
   "source": [
    "## Cleaning"
   ]
  },
  {
   "cell_type": "code",
   "execution_count": 4,
   "metadata": {
    "scrolled": true
   },
   "outputs": [
    {
     "name": "stdout",
     "output_type": "stream",
     "text": [
      "<html op=\"news\"><head><meta name=\"referrer\" content=\"origin\"><meta name=\"viewport\" content=\"width=device-width, initial-scale=1.0\"><link rel=\"stylesheet\" type=\"text/css\" href=\"news.css?wRwy7xNrRA8iSr8OOZLh\">\n",
      "            <link rel=\"shortcut icon\" href=\"favicon.ico\">\n",
      "          <link rel=\"alternate\" type=\"application/rss+xml\" title=\"RSS\" href=\"rss\">\n",
      "        <title>Hacker News</title></head><body><center><table id=\"hnmain\" border=\"0\" cellpadding=\"0\" cellspacing=\"0\" width=\"85%\" bgcolor=\"#f6f6ef\">\n",
      "        <tr><td bgcolor=\"#ff6600\"><table border=\"0\" cellpadding=\"0\" cellspacing=\"0\" width=\"100%\" style=\"padding:2px\"><tr><td style=\"width:18px;padding-right:4px\"><a href=\"https://news.ycombinator.com\"><img src=\"y18.gif\" width=\"18\" height=\"18\" style=\"border:1px white solid;\"></a></td>\n",
      "                  <td style=\"line-height:12pt; height:10px;\"><span class=\"pagetop\"><b class=\"hnname\"><a href=\"news\">Hacker News</a></b>\n",
      "              <a href=\"newest\">new</a> | <a href=\"front\">past</a> | <a href=\"newcomments\">comments</a> | <a href=\"ask\">ask</a> | <a href=\"show\">show</a> | <a href=\"jobs\">jobs</a> | <a href=\"submit\">submit</a>            </span></td><td style=\"text-align:right;padding-right:4px;\"><span class=\"pagetop\">\n",
      "                              <a href=\"login?goto=news\">login</a>\n",
      "                          </span></td>\n",
      "              </tr></table></td></tr>\n",
      "<tr id=\"pagespace\" title=\"\" style=\"height:10px\"></tr><tr><td><table border=\"0\" cellpadding=\"0\" cellspacing=\"0\" class=\"itemlist\">\n",
      "              <tr class='athing' id='19415983'>\n",
      "      <td align=\"right\" valign=\"top\" class=\"title\"><span class=\"rank\">1.</span></td>      <td valign=\"top\" class=\"votelinks\"><center><a id='up_19415983' href='vote?id=19415983&amp;how=up&amp;goto=news'><div class='votearrow' title='upvote'></div></a></center></td><td class=\"title\"><a href=\"http://www.purl.org/stefan_ram/pub/doc_kay_oop_en\" class=\"storylink\">Alan Kay on the Meaning of “Object-Oriented Programming” (2003)</a><span class=\"sitebit comhead\"> (<a href=\"from?site=purl.org\"><span class=\"sitestr\">purl.org</span></a>)</span></td></tr><tr><td colspan=\"2\"></td><td class=\"subtext\">\n",
      "        <span class=\"score\" id=\"score_19415983\">211 points</span> by <a href=\"user?id=tosh\" class=\"hnuser\">tosh</a> <span class=\"age\"><a href=\"item?id=19415983\">6 hours ago</a></span> <span id=\"unv_19415983\"></span> | <a href=\"hide?id=19415983&amp;goto=news\">hide</a> | <a href=\"item?id=19415983\">132&nbsp;comments</a>              </td></tr>\n",
      "      <tr class=\"spacer\" style=\"height:5px\"></tr>\n",
      "                <tr class='athing' id='19413436'>\n",
      "      <td align=\"right\" valign=\"top\" class=\"title\"><span class=\"rank\">2.</span></td>      <td valign=\"top\" class=\"votelinks\"><center><a id='up_19413436' href='vote?id=19413436&amp;how=up&amp;goto=news'><div class='votearrow' title='upvote'></div></a></center></td><td class=\"title\"><a href=\"https://geoff.greer.fm/2019/03/04/thinkpad-x210/\" class=\"storylink\">Thinkpad X210</a><span class=\"sitebit comhead\"> (<a href=\"from?site=greer.fm\"><span class=\"sitestr\">greer.fm</span></a>)</span></td></tr><tr><td colspan=\"2\"></td><td class=\"subtext\">\n",
      "        <span class=\"score\" id=\"score_19413436\">752 points</span> by <a href=\"user?id=MYEUHD\" class=\"hnuser\">MYEUHD</a> <span class=\"age\"><a href=\"item?id=19413436\">14 hours ago</a></span> <span id=\"unv_19413436\"></span> | <a href=\"hide?id=19413436&amp;goto=news\">hide</a> | <a href=\"item?id=19413436\">379&nbsp;comments</a>              </td></tr>\n",
      "      <tr class=\"spacer\" style=\"height:5px\"></tr>\n",
      "                <tr class='athing' id='19416678'>\n",
      "      <td align=\"right\" valign=\"top\" class=\"title\"><span class=\"rank\">3.</span></td>      <td valign=\"top\" class=\"votelinks\"><center><a id='up_19416678' href='vote?id=19416678&amp;how=up&amp;goto=news'><div class='votearrow' title='upvote'></div></a></center></td><td class=\"title\"><a href=\"https://matrix.org/blog/2019/03/15/matrix-1-0-https-arewereadyyet-com/\" class=\"storylink\">Matrix 1.0 – Are We Ready Yet?</a><span class=\"sitebit comhead\"> (<a href=\"from?site=matrix.org\"><span class=\"sitestr\">matrix.org</span></a>)</span></td></tr><tr><td colspan=\"2\"></td><td class=\"subtext\">\n",
      "        <span class=\"score\" id=\"score_19416678\">89 points</span> by <a href=\"user?id=jaywink\" class=\"hnuser\">jaywink</a> <span class=\"age\"><a href=\"item?id=19416678\">4 hours ago</a></span> <span id=\"unv_19416678\"></span> | <a href=\"hide?id=19416678&amp;goto=news\">hide</a> | <a href=\"item?id=19416678\">24&nbsp;comments</a>              </td></tr>\n",
      "      <tr class=\"spacer\" style=\"height:5px\"></tr>\n",
      "                <tr class='athing' id='19416485'>\n",
      "      <td align=\"right\" valign=\"top\" class=\"title\"><span class=\"rank\">4.</span></td>      <td valign=\"top\" class=\"votelinks\"><center><a id='up_19416485' href='vote?id=19416485&amp;how=up&amp;goto=news'><div class='votearrow' title='upvote'></div></a></center></td><td class=\"title\"><a href=\"http://web.mit.edu/~simsong/www/ugh.pdf\" class=\"storylink\">The Unix-Haters Handbook (1994) [pdf]</a><span class=\"sitebit comhead\"> (<a href=\"from?site=mit.edu\"><span class=\"sitestr\">mit.edu</span></a>)</span></td></tr><tr><td colspan=\"2\"></td><td class=\"subtext\">\n",
      "        <span class=\"score\" id=\"score_19416485\">100 points</span> by <a href=\"user?id=imran3740\" class=\"hnuser\">imran3740</a> <span class=\"age\"><a href=\"item?id=19416485\">5 hours ago</a></span> <span id=\"unv_19416485\"></span> | <a href=\"hide?id=19416485&amp;goto=news\">hide</a> | <a href=\"item?id=19416485\">37&nbsp;comments</a>              </td></tr>\n",
      "      <tr class=\"spacer\" style=\"height:5px\"></tr>\n",
      "                <tr class='athing' id='19411485'>\n",
      "      <td align=\"right\" valign=\"top\" class=\"title\"><span class=\"rank\">5.</span></td>      <td valign=\"top\" class=\"votelinks\"><center><a id='up_19411485' href='vote?id=19411485&amp;how=up&amp;goto=news'><div class='votearrow' title='upvote'></div></a></center></td><td class=\"title\"><a href=\"https://www.bbc.com/news/world-europe-47582694\" class=\"storylink\">An entrepreneur has built a one-metre-long stretch of motorway in Romania</a><span class=\"sitebit comhead\"> (<a href=\"from?site=bbc.com\"><span class=\"sitestr\">bbc.com</span></a>)</span></td></tr><tr><td colspan=\"2\"></td><td class=\"subtext\">\n",
      "        <span class=\"score\" id=\"score_19411485\">167 points</span> by <a href=\"user?id=Happy4000\" class=\"hnuser\">Happy4000</a> <span class=\"age\"><a href=\"item?id=19411485\">8 hours ago</a></span> <span id=\"unv_19411485\"></span> | <a href=\"hide?id=19411485&amp;goto=news\">hide</a> | <a href=\"item?id=19411485\">77&nbsp;comments</a>              </td></tr>\n",
      "      <tr class=\"spacer\" style=\"height:5px\"></tr>\n",
      "                <tr class='athing' id='19412667'>\n",
      "      <td align=\"right\" valign=\"top\" class=\"title\"><span class=\"rank\">6.</span></td>      <td valign=\"top\" class=\"votelinks\"><center><a id='up_19412667' href='vote?id=19412667&amp;how=up&amp;goto=news'><div class='votearrow' title='upvote'></div></a></center></td><td class=\"title\"><a href=\"https://www.microsoft.com/en-us/research/uploads/prod/2019/03/ho-haskell-5c8bb4918a4de.pdf\" class=\"storylink\">Higher-Order Type-Level Programming in Haskell [pdf]</a><span class=\"sitebit comhead\"> (<a href=\"from?site=microsoft.com\"><span class=\"sitestr\">microsoft.com</span></a>)</span></td></tr><tr><td colspan=\"2\"></td><td class=\"subtext\">\n",
      "        <span class=\"score\" id=\"score_19412667\">37 points</span> by <a href=\"user?id=justinhj\" class=\"hnuser\">justinhj</a> <span class=\"age\"><a href=\"item?id=19412667\">3 hours ago</a></span> <span id=\"unv_19412667\"></span> | <a href=\"hide?id=19412667&amp;goto=news\">hide</a> | <a href=\"item?id=19412667\">discuss</a>              </td></tr>\n",
      "      <tr class=\"spacer\" style=\"height:5px\"></tr>\n",
      "                <tr class='athing' id='19415445'>\n",
      "      <td align=\"right\" valign=\"top\" class=\"title\"><span class=\"rank\">7.</span></td>      <td valign=\"top\" class=\"votelinks\"><center><a id='up_19415445' href='vote?id=19415445&amp;how=up&amp;goto=news'><div class='votearrow' title='upvote'></div></a></center></td><td class=\"title\"><a href=\"https://rpcs3.net/blog/2019/03/17/progress-report-january-2019/\" class=\"storylink\">RPCS3 PS3 Emulator – January 2019 Progress Report</a><span class=\"sitebit comhead\"> (<a href=\"from?site=rpcs3.net\"><span class=\"sitestr\">rpcs3.net</span></a>)</span></td></tr><tr><td colspan=\"2\"></td><td class=\"subtext\">\n",
      "        <span class=\"score\" id=\"score_19415445\">116 points</span> by <a href=\"user?id=pplonski86\" class=\"hnuser\">pplonski86</a> <span class=\"age\"><a href=\"item?id=19415445\">7 hours ago</a></span> <span id=\"unv_19415445\"></span> | <a href=\"hide?id=19415445&amp;goto=news\">hide</a> | <a href=\"item?id=19415445\">46&nbsp;comments</a>              </td></tr>\n",
      "      <tr class=\"spacer\" style=\"height:5px\"></tr>\n",
      "                <tr class='athing' id='19417619'>\n",
      "      <td align=\"right\" valign=\"top\" class=\"title\"><span class=\"rank\">8.</span></td>      <td valign=\"top\" class=\"votelinks\"><center><a id='up_19417619' href='vote?id=19417619&amp;how=up&amp;goto=news'><div class='votearrow' title='upvote'></div></a></center></td><td class=\"title\"><a href=\"https://atlas.cern/updates/physics-briefing/atlas-observes-light-scattering-light\" class=\"storylink\">Atlas observes light scattering off light</a><span class=\"sitebit comhead\"> (<a href=\"from?site=atlas.cern\"><span class=\"sitestr\">atlas.cern</span></a>)</span></td></tr><tr><td colspan=\"2\"></td><td class=\"subtext\">\n",
      "        <span class=\"score\" id=\"score_19417619\">10 points</span> by <a href=\"user?id=ars\" class=\"hnuser\">ars</a> <span class=\"age\"><a href=\"item?id=19417619\">2 hours ago</a></span> <span id=\"unv_19417619\"></span> | <a href=\"hide?id=19417619&amp;goto=news\">hide</a> | <a href=\"item?id=19417619\">discuss</a>              </td></tr>\n",
      "      <tr class=\"spacer\" style=\"height:5px\"></tr>\n",
      "                <tr class='athing' id='19415765'>\n",
      "      <td align=\"right\" valign=\"top\" class=\"title\"><span class=\"rank\">9.</span></td>      <td valign=\"top\" class=\"votelinks\"><center><a id='up_19415765' href='vote?id=19415765&amp;how=up&amp;goto=news'><div class='votearrow' title='upvote'></div></a></center></td><td class=\"title\"><a href=\"https://sanctum.geek.nz/arabesque/vim-anti-patterns/\" class=\"storylink\">Vim Anti-Patterns (2012)</a><span class=\"sitebit comhead\"> (<a href=\"from?site=sanctum.geek.nz\"><span class=\"sitestr\">sanctum.geek.nz</span></a>)</span></td></tr><tr><td colspan=\"2\"></td><td class=\"subtext\">\n",
      "        <span class=\"score\" id=\"score_19415765\">179 points</span> by <a href=\"user?id=lelf\" class=\"hnuser\">lelf</a> <span class=\"age\"><a href=\"item?id=19415765\">6 hours ago</a></span> <span id=\"unv_19415765\"></span> | <a href=\"hide?id=19415765&amp;goto=news\">hide</a> | <a href=\"item?id=19415765\">127&nbsp;comments</a>              </td></tr>\n",
      "      <tr class=\"spacer\" style=\"height:5px\"></tr>\n",
      "                <tr class='athing' id='19414019'>\n",
      "      <td align=\"right\" valign=\"top\" class=\"title\"><span class=\"rank\">10.</span></td>      <td valign=\"top\" class=\"votelinks\"><center><a id='up_19414019' href='vote?id=19414019&amp;how=up&amp;goto=news'><div class='votearrow' title='upvote'></div></a></center></td><td class=\"title\"><a href=\"https://www.theguardian.com/science/2019/mar/17/nile-shipwreck-herodotus-archaeologists-thonis-heraclion\" class=\"storylink\">Nile shipwreck discovery proves Herodotus right</a><span class=\"sitebit comhead\"> (<a href=\"from?site=theguardian.com\"><span class=\"sitestr\">theguardian.com</span></a>)</span></td></tr><tr><td colspan=\"2\"></td><td class=\"subtext\">\n",
      "        <span class=\"score\" id=\"score_19414019\">183 points</span> by <a href=\"user?id=longdefeat\" class=\"hnuser\">longdefeat</a> <span class=\"age\"><a href=\"item?id=19414019\">12 hours ago</a></span> <span id=\"unv_19414019\"></span> | <a href=\"hide?id=19414019&amp;goto=news\">hide</a> | <a href=\"item?id=19414019\">33&nbsp;comments</a>              </td></tr>\n",
      "      <tr class=\"spacer\" style=\"height:5px\"></tr>\n",
      "                <tr class='athing' id='19413964'>\n",
      "      <td align=\"right\" valign=\"top\" class=\"title\"><span class=\"rank\">11.</span></td>      <td valign=\"top\" class=\"votelinks\"><center><a id='up_19413964' href='vote?id=19413964&amp;how=up&amp;goto=news'><div class='votearrow' title='upvote'></div></a></center></td><td class=\"title\"><a href=\"https://www.atlasobscura.com/articles/japanese-manhole-covers\" class=\"storylink\">Japan’s elaborate, colorful manhole covers</a><span class=\"sitebit comhead\"> (<a href=\"from?site=atlasobscura.com\"><span class=\"sitestr\">atlasobscura.com</span></a>)</span></td></tr><tr><td colspan=\"2\"></td><td class=\"subtext\">\n",
      "        <span class=\"score\" id=\"score_19413964\">248 points</span> by <a href=\"user?id=bookofjoe\" class=\"hnuser\">bookofjoe</a> <span class=\"age\"><a href=\"item?id=19413964\">12 hours ago</a></span> <span id=\"unv_19413964\"></span> | <a href=\"hide?id=19413964&amp;goto=news\">hide</a> | <a href=\"item?id=19413964\">60&nbsp;comments</a>              </td></tr>\n",
      "      <tr class=\"spacer\" style=\"height:5px\"></tr>\n",
      "                <tr class='athing' id='19415973'>\n",
      "      <td align=\"right\" valign=\"top\" class=\"title\"><span class=\"rank\">12.</span></td>      <td valign=\"top\" class=\"votelinks\"><center><a id='up_19415973' href='vote?id=19415973&amp;how=up&amp;goto=news'><div class='votearrow' title='upvote'></div></a></center></td><td class=\"title\"><a href=\"https://www.sapiens.org/body/human-teeth-evolution/\" class=\"storylink\">Why Are Human Teeth So Messed Up? (2017)</a><span class=\"sitebit comhead\"> (<a href=\"from?site=sapiens.org\"><span class=\"sitestr\">sapiens.org</span></a>)</span></td></tr><tr><td colspan=\"2\"></td><td class=\"subtext\">\n",
      "        <span class=\"score\" id=\"score_19415973\">185 points</span> by <a href=\"user?id=BerislavLopac\" class=\"hnuser\">BerislavLopac</a> <span class=\"age\"><a href=\"item?id=19415973\">6 hours ago</a></span> <span id=\"unv_19415973\"></span> | <a href=\"hide?id=19415973&amp;goto=news\">hide</a> | <a href=\"item?id=19415973\">123&nbsp;comments</a>              </td></tr>\n",
      "      <tr class=\"spacer\" style=\"height:5px\"></tr>\n",
      "                <tr class='athing' id='19417640'>\n",
      "      <td align=\"right\" valign=\"top\" class=\"title\"><span class=\"rank\">13.</span></td>      <td valign=\"top\" class=\"votelinks\"><center><a id='up_19417640' href='vote?id=19417640&amp;how=up&amp;goto=news'><div class='votearrow' title='upvote'></div></a></center></td><td class=\"title\"><a href=\"https://boingboing.net/2019/03/17/facebook-is-next.html\" class=\"storylink\">Myspace lost all the music its users uploaded between 2003 and 2015</a><span class=\"sitebit comhead\"> (<a href=\"from?site=boingboing.net\"><span class=\"sitestr\">boingboing.net</span></a>)</span></td></tr><tr><td colspan=\"2\"></td><td class=\"subtext\">\n",
      "        <span class=\"score\" id=\"score_19417640\">54 points</span> by <a href=\"user?id=pmoriarty\" class=\"hnuser\">pmoriarty</a> <span class=\"age\"><a href=\"item?id=19417640\">2 hours ago</a></span> <span id=\"unv_19417640\"></span> | <a href=\"hide?id=19417640&amp;goto=news\">hide</a> | <a href=\"item?id=19417640\">11&nbsp;comments</a>              </td></tr>\n",
      "      <tr class=\"spacer\" style=\"height:5px\"></tr>\n",
      "                <tr class='athing' id='19414775'>\n",
      "      <td align=\"right\" valign=\"top\" class=\"title\"><span class=\"rank\">14.</span></td>      <td valign=\"top\" class=\"votelinks\"><center><a id='up_19414775' href='vote?id=19414775&amp;how=up&amp;goto=news'><div class='votearrow' title='upvote'></div></a></center></td><td class=\"title\"><a href=\"https://twitter.com/trevorsumner/status/1106934369158078470?ref_src=twsrc%5Etfw%7Ctwcamp%5Etweetembed%7Ctwterm%5E1106934369158078470&amp;ref_url=https%3A%2F%2Fwww.zerohedge.com%2Fnews%2F2019-03-17%2Fbest-analysis-what-really-happened-boeing-737-max-pilot-software-engineer\" class=\"storylink\">737 MAX Explanation by a Software Engineer</a><span class=\"sitebit comhead\"> (<a href=\"from?site=twitter.com\"><span class=\"sitestr\">twitter.com</span></a>)</span></td></tr><tr><td colspan=\"2\"></td><td class=\"subtext\">\n",
      "        <span class=\"score\" id=\"score_19414775\">492 points</span> by <a href=\"user?id=paulsutter\" class=\"hnuser\">paulsutter</a> <span class=\"age\"><a href=\"item?id=19414775\">9 hours ago</a></span> <span id=\"unv_19414775\"></span> | <a href=\"hide?id=19414775&amp;goto=news\">hide</a> | <a href=\"item?id=19414775\">163&nbsp;comments</a>              </td></tr>\n",
      "      <tr class=\"spacer\" style=\"height:5px\"></tr>\n",
      "                <tr class='athing' id='19413262'>\n",
      "      <td align=\"right\" valign=\"top\" class=\"title\"><span class=\"rank\">15.</span></td>      <td valign=\"top\" class=\"votelinks\"><center><a id='up_19413262' href='vote?id=19413262&amp;how=up&amp;goto=news'><div class='votearrow' title='upvote'></div></a></center></td><td class=\"title\"><a href=\"https://zalo.github.io/blog/constraints/\" class=\"storylink\">A Short Intro to Constraints</a><span class=\"sitebit comhead\"> (<a href=\"from?site=zalo.github.io\"><span class=\"sitestr\">zalo.github.io</span></a>)</span></td></tr><tr><td colspan=\"2\"></td><td class=\"subtext\">\n",
      "        <span class=\"score\" id=\"score_19413262\">95 points</span> by <a href=\"user?id=nkoren\" class=\"hnuser\">nkoren</a> <span class=\"age\"><a href=\"item?id=19413262\">8 hours ago</a></span> <span id=\"unv_19413262\"></span> | <a href=\"hide?id=19413262&amp;goto=news\">hide</a> | <a href=\"item?id=19413262\">9&nbsp;comments</a>              </td></tr>\n",
      "      <tr class=\"spacer\" style=\"height:5px\"></tr>\n",
      "                <tr class='athing' id='19415186'>\n",
      "      <td align=\"right\" valign=\"top\" class=\"title\"><span class=\"rank\">16.</span></td>      <td valign=\"top\" class=\"votelinks\"><center><a id='up_19415186' href='vote?id=19415186&amp;how=up&amp;goto=news'><div class='votearrow' title='upvote'></div></a></center></td><td class=\"title\"><a href=\"https://www.nytimes.com/2019/03/13/technology/silicon-valley-network-mafias.html\" class=\"storylink\">Uber and Airbnb Alumni Fuel Tech’s Next Wave</a><span class=\"sitebit comhead\"> (<a href=\"from?site=nytimes.com\"><span class=\"sitestr\">nytimes.com</span></a>)</span></td></tr><tr><td colspan=\"2\"></td><td class=\"subtext\">\n",
      "        <span class=\"score\" id=\"score_19415186\">78 points</span> by <a href=\"user?id=mdev\" class=\"hnuser\">mdev</a> <span class=\"age\"><a href=\"item?id=19415186\">8 hours ago</a></span> <span id=\"unv_19415186\"></span> | <a href=\"hide?id=19415186&amp;goto=news\">hide</a> | <a href=\"item?id=19415186\">107&nbsp;comments</a>              </td></tr>\n",
      "      <tr class=\"spacer\" style=\"height:5px\"></tr>\n",
      "                <tr class='athing' id='19415066'>\n",
      "      <td align=\"right\" valign=\"top\" class=\"title\"><span class=\"rank\">17.</span></td>      <td valign=\"top\" class=\"votelinks\"><center><a id='up_19415066' href='vote?id=19415066&amp;how=up&amp;goto=news'><div class='votearrow' title='upvote'></div></a></center></td><td class=\"title\"><a href=\"https://rust-lang-nursery.github.io/rust-cookbook/\" class=\"storylink\">Rust Cookbook</a><span class=\"sitebit comhead\"> (<a href=\"from?site=rust-lang-nursery.github.io\"><span class=\"sitestr\">rust-lang-nursery.github.io</span></a>)</span></td></tr><tr><td colspan=\"2\"></td><td class=\"subtext\">\n",
      "        <span class=\"score\" id=\"score_19415066\">252 points</span> by <a href=\"user?id=ingve\" class=\"hnuser\">ingve</a> <span class=\"age\"><a href=\"item?id=19415066\">8 hours ago</a></span> <span id=\"unv_19415066\"></span> | <a href=\"hide?id=19415066&amp;goto=news\">hide</a> | <a href=\"item?id=19415066\">33&nbsp;comments</a>              </td></tr>\n",
      "      <tr class=\"spacer\" style=\"height:5px\"></tr>\n",
      "                <tr class='athing' id='19413454'>\n",
      "      <td align=\"right\" valign=\"top\" class=\"title\"><span class=\"rank\">18.</span></td>      <td valign=\"top\" class=\"votelinks\"><center><a id='up_19413454' href='vote?id=19413454&amp;how=up&amp;goto=news'><div class='votearrow' title='upvote'></div></a></center></td><td class=\"title\"><a href=\"https://rlgraph.github.io/rlgraph/2019/01/04/introducing-rlgraph.html\" class=\"storylink\">RLgraph: Robust, incrementally testable reinforcement learning</a><span class=\"sitebit comhead\"> (<a href=\"from?site=rlgraph.github.io\"><span class=\"sitestr\">rlgraph.github.io</span></a>)</span></td></tr><tr><td colspan=\"2\"></td><td class=\"subtext\">\n",
      "        <span class=\"score\" id=\"score_19413454\">15 points</span> by <a href=\"user?id=k_f\" class=\"hnuser\">k_f</a> <span class=\"age\"><a href=\"item?id=19413454\">4 hours ago</a></span> <span id=\"unv_19413454\"></span> | <a href=\"hide?id=19413454&amp;goto=news\">hide</a> | <a href=\"item?id=19413454\">discuss</a>              </td></tr>\n",
      "      <tr class=\"spacer\" style=\"height:5px\"></tr>\n",
      "                <tr class='athing' id='19412138'>\n",
      "      <td align=\"right\" valign=\"top\" class=\"title\"><span class=\"rank\">19.</span></td>      <td valign=\"top\" class=\"votelinks\"><center><a id='up_19412138' href='vote?id=19412138&amp;how=up&amp;goto=news'><div class='votearrow' title='upvote'></div></a></center></td><td class=\"title\"><a href=\"https://www.youtube.com/watch?v=I-vusWL2cx4\" class=\"storylink\">Randomly Generated N64 Games [video]</a><span class=\"sitebit comhead\"> (<a href=\"from?site=youtube.com\"><span class=\"sitestr\">youtube.com</span></a>)</span></td></tr><tr><td colspan=\"2\"></td><td class=\"subtext\">\n",
      "        <span class=\"score\" id=\"score_19412138\">8 points</span> by <a href=\"user?id=bane\" class=\"hnuser\">bane</a> <span class=\"age\"><a href=\"item?id=19412138\">2 hours ago</a></span> <span id=\"unv_19412138\"></span> | <a href=\"hide?id=19412138&amp;goto=news\">hide</a> | <a href=\"item?id=19412138\">1&nbsp;comment</a>              </td></tr>\n",
      "      <tr class=\"spacer\" style=\"height:5px\"></tr>\n",
      "                <tr class='athing' id='19413271'>\n",
      "      <td align=\"right\" valign=\"top\" class=\"title\"><span class=\"rank\">20.</span></td>      <td valign=\"top\" class=\"votelinks\"><center><a id='up_19413271' href='vote?id=19413271&amp;how=up&amp;goto=news'><div class='votearrow' title='upvote'></div></a></center></td><td class=\"title\"><a href=\"https://techcrunch.com/2019/03/13/sketch-maker-of-popular-design-tools-just-landed-20-million-in-series-a-funding-from-benchmark-in-its-first-outside-round/\" class=\"storylink\">Sketch raises $20M in Series A funding</a><span class=\"sitebit comhead\"> (<a href=\"from?site=techcrunch.com\"><span class=\"sitestr\">techcrunch.com</span></a>)</span></td></tr><tr><td colspan=\"2\"></td><td class=\"subtext\">\n",
      "        <span class=\"score\" id=\"score_19413271\">163 points</span> by <a href=\"user?id=3stripe\" class=\"hnuser\">3stripe</a> <span class=\"age\"><a href=\"item?id=19413271\">14 hours ago</a></span> <span id=\"unv_19413271\"></span> | <a href=\"hide?id=19413271&amp;goto=news\">hide</a> | <a href=\"item?id=19413271\">111&nbsp;comments</a>              </td></tr>\n",
      "      <tr class=\"spacer\" style=\"height:5px\"></tr>\n",
      "                <tr class='athing' id='19414275'>\n",
      "      <td align=\"right\" valign=\"top\" class=\"title\"><span class=\"rank\">21.</span></td>      <td valign=\"top\" class=\"votelinks\"><center><a id='up_19414275' href='vote?id=19414275&amp;how=up&amp;goto=news'><div class='votearrow' title='upvote'></div></a></center></td><td class=\"title\"><a href=\"https://arduinohistory.github.io/\" class=\"storylink\">The Untold History of Arduino (2016)</a><span class=\"sitebit comhead\"> (<a href=\"from?site=arduinohistory.github.io\"><span class=\"sitestr\">arduinohistory.github.io</span></a>)</span></td></tr><tr><td colspan=\"2\"></td><td class=\"subtext\">\n",
      "        <span class=\"score\" id=\"score_19414275\">145 points</span> by <a href=\"user?id=cristoperb\" class=\"hnuser\">cristoperb</a> <span class=\"age\"><a href=\"item?id=19414275\">11 hours ago</a></span> <span id=\"unv_19414275\"></span> | <a href=\"hide?id=19414275&amp;goto=news\">hide</a> | <a href=\"item?id=19414275\">24&nbsp;comments</a>              </td></tr>\n",
      "      <tr class=\"spacer\" style=\"height:5px\"></tr>\n",
      "                <tr class='athing' id='19416085'>\n",
      "      <td align=\"right\" valign=\"top\" class=\"title\"><span class=\"rank\">22.</span></td>      <td valign=\"top\" class=\"votelinks\"><center><a id='up_19416085' href='vote?id=19416085&amp;how=up&amp;goto=news'><div class='votearrow' title='upvote'></div></a></center></td><td class=\"title\"><a href=\"http://www.gurdjieff.org/rope.htm\" class=\"storylink\">Gurdjieff and the Women of ‘The Rope’ (1997)</a><span class=\"sitebit comhead\"> (<a href=\"from?site=gurdjieff.org\"><span class=\"sitestr\">gurdjieff.org</span></a>)</span></td></tr><tr><td colspan=\"2\"></td><td class=\"subtext\">\n",
      "        <span class=\"score\" id=\"score_19416085\">29 points</span> by <a href=\"user?id=acsillag\" class=\"hnuser\">acsillag</a> <span class=\"age\"><a href=\"item?id=19416085\">6 hours ago</a></span> <span id=\"unv_19416085\"></span> | <a href=\"hide?id=19416085&amp;goto=news\">hide</a> | <a href=\"item?id=19416085\">8&nbsp;comments</a>              </td></tr>\n",
      "      <tr class=\"spacer\" style=\"height:5px\"></tr>\n",
      "                <tr class='athing' id='19413634'>\n",
      "      <td align=\"right\" valign=\"top\" class=\"title\"><span class=\"rank\">23.</span></td>      <td valign=\"top\" class=\"votelinks\"><center><a id='up_19413634' href='vote?id=19413634&amp;how=up&amp;goto=news'><div class='votearrow' title='upvote'></div></a></center></td><td class=\"title\"><a href=\"http://nautil.us//issue/61/coordinates/why-living-in-a-poor-neighborhood-can-change-your-biology-rp\" class=\"storylink\">Environmental stress contributes to obesity and diabetes (2015)</a><span class=\"sitebit comhead\"> (<a href=\"from?site=nautil.us\"><span class=\"sitestr\">nautil.us</span></a>)</span></td></tr><tr><td colspan=\"2\"></td><td class=\"subtext\">\n",
      "        <span class=\"score\" id=\"score_19413634\">24 points</span> by <a href=\"user?id=mhalle\" class=\"hnuser\">mhalle</a> <span class=\"age\"><a href=\"item?id=19413634\">5 hours ago</a></span> <span id=\"unv_19413634\"></span> | <a href=\"hide?id=19413634&amp;goto=news\">hide</a> | <a href=\"item?id=19413634\">2&nbsp;comments</a>              </td></tr>\n",
      "      <tr class=\"spacer\" style=\"height:5px\"></tr>\n",
      "                <tr class='athing' id='19414092'>\n",
      "      <td align=\"right\" valign=\"top\" class=\"title\"><span class=\"rank\">24.</span></td>      <td valign=\"top\" class=\"votelinks\"><center><a id='up_19414092' href='vote?id=19414092&amp;how=up&amp;goto=news'><div class='votearrow' title='upvote'></div></a></center></td><td class=\"title\"><a href=\"https://github.com/picotorrent/picotorrent\" class=\"storylink\">Picotorrent: a tiny, hackable BitTorrent client</a><span class=\"sitebit comhead\"> (<a href=\"from?site=github.com\"><span class=\"sitestr\">github.com</span></a>)</span></td></tr><tr><td colspan=\"2\"></td><td class=\"subtext\">\n",
      "        <span class=\"score\" id=\"score_19414092\">81 points</span> by <a href=\"user?id=seddin\" class=\"hnuser\">seddin</a> <span class=\"age\"><a href=\"item?id=19414092\">11 hours ago</a></span> <span id=\"unv_19414092\"></span> | <a href=\"hide?id=19414092&amp;goto=news\">hide</a> | <a href=\"item?id=19414092\">20&nbsp;comments</a>              </td></tr>\n",
      "      <tr class=\"spacer\" style=\"height:5px\"></tr>\n",
      "                <tr class='athing' id='19416584'>\n",
      "      <td align=\"right\" valign=\"top\" class=\"title\"><span class=\"rank\">25.</span></td>      <td valign=\"top\" class=\"votelinks\"><center><a id='up_19416584' href='vote?id=19416584&amp;how=up&amp;goto=news'><div class='votearrow' title='upvote'></div></a></center></td><td class=\"title\"><a href=\"https://gist.github.com/skamille/78fcc0576a0db3e72c25ec0cf456f619\" class=\"storylink\">Questions on the Future of Open Source</a><span class=\"sitebit comhead\"> (<a href=\"from?site=gist.github.com\"><span class=\"sitestr\">gist.github.com</span></a>)</span></td></tr><tr><td colspan=\"2\"></td><td class=\"subtext\">\n",
      "        <span class=\"score\" id=\"score_19416584\">17 points</span> by <a href=\"user?id=diegopacheco\" class=\"hnuser\">diegopacheco</a> <span class=\"age\"><a href=\"item?id=19416584\">5 hours ago</a></span> <span id=\"unv_19416584\"></span> | <a href=\"hide?id=19416584&amp;goto=news\">hide</a> | <a href=\"item?id=19416584\">2&nbsp;comments</a>              </td></tr>\n",
      "      <tr class=\"spacer\" style=\"height:5px\"></tr>\n",
      "                <tr class='athing' id='19406895'>\n",
      "      <td align=\"right\" valign=\"top\" class=\"title\"><span class=\"rank\">26.</span></td>      <td valign=\"top\" class=\"votelinks\"><center><a id='up_19406895' href='vote?id=19406895&amp;how=up&amp;goto=news'><div class='votearrow' title='upvote'></div></a></center></td><td class=\"title\"><a href=\"http://www.ritsumei.ac.jp/~akitaoka/scolor-e.html\" class=\"storylink\">Chromostereopsis (2002)</a><span class=\"sitebit comhead\"> (<a href=\"from?site=ritsumei.ac.jp\"><span class=\"sitestr\">ritsumei.ac.jp</span></a>)</span></td></tr><tr><td colspan=\"2\"></td><td class=\"subtext\">\n",
      "        <span class=\"score\" id=\"score_19406895\">13 points</span> by <a href=\"user?id=Tomte\" class=\"hnuser\">Tomte</a> <span class=\"age\"><a href=\"item?id=19406895\">4 hours ago</a></span> <span id=\"unv_19406895\"></span> | <a href=\"hide?id=19406895&amp;goto=news\">hide</a> | <a href=\"item?id=19406895\">8&nbsp;comments</a>              </td></tr>\n",
      "      <tr class=\"spacer\" style=\"height:5px\"></tr>\n",
      "                <tr class='athing' id='19415484'>\n",
      "      <td align=\"right\" valign=\"top\" class=\"title\"><span class=\"rank\">27.</span></td>      <td valign=\"top\" class=\"votelinks\"><center><a id='up_19415484' href='vote?id=19415484&amp;how=up&amp;goto=news'><div class='votearrow' title='upvote'></div></a></center></td><td class=\"title\"><a href=\"https://manybutfinite.com/post/first-recorded-usage-of-hacker/\" class=\"storylink\" rel=\"nofollow\">First Recorded Usage of “Hacker” (2008)</a><span class=\"sitebit comhead\"> (<a href=\"from?site=manybutfinite.com\"><span class=\"sitestr\">manybutfinite.com</span></a>)</span></td></tr><tr><td colspan=\"2\"></td><td class=\"subtext\">\n",
      "        <span class=\"score\" id=\"score_19415484\">17 points</span> by <a href=\"user?id=dang\" class=\"hnuser\">dang</a> <span class=\"age\"><a href=\"item?id=19415484\">3 hours ago</a></span> <span id=\"unv_19415484\"></span> | <a href=\"hide?id=19415484&amp;goto=news\">hide</a> | <a href=\"item?id=19415484\">4&nbsp;comments</a>              </td></tr>\n",
      "      <tr class=\"spacer\" style=\"height:5px\"></tr>\n",
      "                <tr class='athing' id='19413569'>\n",
      "      <td align=\"right\" valign=\"top\" class=\"title\"><span class=\"rank\">28.</span></td>      <td valign=\"top\" class=\"votelinks\"><center><a id='up_19413569' href='vote?id=19413569&amp;how=up&amp;goto=news'><div class='votearrow' title='upvote'></div></a></center></td><td class=\"title\"><a href=\"https://leandromoreira.com.br/2019/01/25/how-to-build-a-distributed-throttling-system-with-nginx-lua-redis/\" class=\"storylink\">How to build a distributed throttling system with Nginx, Lua, and Redis</a><span class=\"sitebit comhead\"> (<a href=\"from?site=leandromoreira.com.br\"><span class=\"sitestr\">leandromoreira.com.br</span></a>)</span></td></tr><tr><td colspan=\"2\"></td><td class=\"subtext\">\n",
      "        <span class=\"score\" id=\"score_19413569\">110 points</span> by <a href=\"user?id=dreampeppers99\" class=\"hnuser\">dreampeppers99</a> <span class=\"age\"><a href=\"item?id=19413569\">13 hours ago</a></span> <span id=\"unv_19413569\"></span> | <a href=\"hide?id=19413569&amp;goto=news\">hide</a> | <a href=\"item?id=19413569\">12&nbsp;comments</a>              </td></tr>\n",
      "      <tr class=\"spacer\" style=\"height:5px\"></tr>\n",
      "                <tr class='athing' id='19413348'>\n",
      "      <td align=\"right\" valign=\"top\" class=\"title\"><span class=\"rank\">29.</span></td>      <td valign=\"top\" class=\"votelinks\"><center><a id='up_19413348' href='vote?id=19413348&amp;how=up&amp;goto=news'><div class='votearrow' title='upvote'></div></a></center></td><td class=\"title\"><a href=\"item?id=19413348\" class=\"storylink\">Ask HN: What do recruiters look for in a GitHub profile?</a></td></tr><tr><td colspan=\"2\"></td><td class=\"subtext\">\n",
      "        <span class=\"score\" id=\"score_19413348\">150 points</span> by <a href=\"user?id=passenger\" class=\"hnuser\">passenger</a> <span class=\"age\"><a href=\"item?id=19413348\">8 hours ago</a></span> <span id=\"unv_19413348\"></span> | <a href=\"hide?id=19413348&amp;goto=news\">hide</a> | <a href=\"item?id=19413348\">166&nbsp;comments</a>              </td></tr>\n",
      "      <tr class=\"spacer\" style=\"height:5px\"></tr>\n",
      "                <tr class='athing' id='19417561'>\n",
      "      <td align=\"right\" valign=\"top\" class=\"title\"><span class=\"rank\">30.</span></td>      <td valign=\"top\" class=\"votelinks\"><center><a id='up_19417561' href='vote?id=19417561&amp;how=up&amp;goto=news'><div class='votearrow' title='upvote'></div></a></center></td><td class=\"title\"><a href=\"item?id=19417561\" class=\"storylink\">Is Someone Hijacking Google Images?</a></td></tr><tr><td colspan=\"2\"></td><td class=\"subtext\">\n",
      "        <span class=\"score\" id=\"score_19417561\">22 points</span> by <a href=\"user?id=squarefoot\" class=\"hnuser\">squarefoot</a> <span class=\"age\"><a href=\"item?id=19417561\">2 hours ago</a></span> <span id=\"unv_19417561\"></span> | <a href=\"hide?id=19417561&amp;goto=news\">hide</a> | <a href=\"item?id=19417561\">12&nbsp;comments</a>              </td></tr>\n",
      "      <tr class=\"spacer\" style=\"height:5px\"></tr>\n",
      "            <tr class=\"morespace\" style=\"height:10px\"></tr><tr><td colspan=\"2\"></td><td class=\"title\"><a href=\"news?p=2\" class=\"morelink\" rel=\"next\">More</a></td></tr>\n",
      "  </table>\n",
      "</td></tr>\n",
      "<tr><td><img src=\"s.gif\" height=\"10\" width=\"0\"><table width=\"100%\" cellspacing=\"0\" cellpadding=\"1\"><tr><td bgcolor=\"#ff6600\"></td></tr></table><br><center><a href=\"https://www.ycombinator.com/apply/\">\n",
      "        Applications are open for YC Summer 2019\n",
      "      </a></center><br><center><span class=\"yclinks\"><a href=\"newsguidelines.html\">Guidelines</a>\n",
      "        | <a href=\"newsfaq.html\">FAQ</a>\n",
      "        | <a href=\"mailto:hn@ycombinator.com\">Support</a>\n",
      "        | <a href=\"https://github.com/HackerNews/API\">API</a>\n",
      "        | <a href=\"security.html\">Security</a>\n",
      "        | <a href=\"lists\">Lists</a>\n",
      "        | <a href=\"bookmarklet.html\" rel=\"nofollow\">Bookmarklet</a>\n",
      "        | <a href=\"http://www.ycombinator.com/legal/\">Legal</a>\n",
      "        | <a href=\"http://www.ycombinator.com/apply/\">Apply to YC</a>\n",
      "        | <a href=\"mailto:hn@ycombinator.com\">Contact</a></span><br><br><form method=\"get\" action=\"//hn.algolia.com/\">Search:\n",
      "          <input type=\"text\" name=\"q\" value=\"\" size=\"17\" autocorrect=\"off\" spellcheck=\"false\" autocapitalize=\"off\" autocomplete=\"false\"></form>\n",
      "            </center></td></tr>\n",
      "      </table></center></body><script type='text/javascript' src='hn.js?wRwy7xNrRA8iSr8OOZLh'></script>\n",
      "  </html>\n",
      "\n"
     ]
    }
   ],
   "source": [
    "import requests\n",
    "\n",
    "# Fetch a web page\n",
    "r = requests.get(\"https://news.ycombinator.com\")\n",
    "print(r.text)"
   ]
  },
  {
   "cell_type": "code",
   "execution_count": 5,
   "metadata": {},
   "outputs": [
    {
     "name": "stdout",
     "output_type": "stream",
     "text": [
      "\n",
      "            \n",
      "          \n",
      "        Hacker News\n",
      "        \n",
      "                  Hacker News\n",
      "              new | past | comments | ask | show | jobs | submit            \n",
      "                              login\n",
      "                          \n",
      "              \n",
      "\n",
      "              \n",
      "      1.      Alan Kay on the Meaning of “Object-Oriented Programming” (2003) (purl.org)\n",
      "        211 points by tosh 6 hours ago  | hide | 132&nbsp;comments              \n",
      "      \n",
      "                \n",
      "      2.      Thinkpad X210 (greer.fm)\n",
      "        752 points by MYEUHD 14 hours ago  | hide | 379&nbsp;comments              \n",
      "      \n",
      "                \n",
      "      3.      Matrix 1.0 – Are We Ready Yet? (matrix.org)\n",
      "        89 points by jaywink 4 hours ago  | hide | 24&nbsp;comments              \n",
      "      \n",
      "                \n",
      "      4.      The Unix-Haters Handbook (1994) [pdf] (mit.edu)\n",
      "        100 points by imran3740 5 hours ago  | hide | 37&nbsp;comments              \n",
      "      \n",
      "                \n",
      "      5.      An entrepreneur has built a one-metre-long stretch of motorway in Romania (bbc.com)\n",
      "        167 points by Happy4000 8 hours ago  | hide | 77&nbsp;comments              \n",
      "      \n",
      "                \n",
      "      6.      Higher-Order Type-Level Programming in Haskell [pdf] (microsoft.com)\n",
      "        37 points by justinhj 3 hours ago  | hide | discuss              \n",
      "      \n",
      "                \n",
      "      7.      RPCS3 PS3 Emulator – January 2019 Progress Report (rpcs3.net)\n",
      "        116 points by pplonski86 7 hours ago  | hide | 46&nbsp;comments              \n",
      "      \n",
      "                \n",
      "      8.      Atlas observes light scattering off light (atlas.cern)\n",
      "        10 points by ars 2 hours ago  | hide | discuss              \n",
      "      \n",
      "                \n",
      "      9.      Vim Anti-Patterns (2012) (sanctum.geek.nz)\n",
      "        179 points by lelf 6 hours ago  | hide | 127&nbsp;comments              \n",
      "      \n",
      "                \n",
      "      10.      Nile shipwreck discovery proves Herodotus right (theguardian.com)\n",
      "        183 points by longdefeat 12 hours ago  | hide | 33&nbsp;comments              \n",
      "      \n",
      "                \n",
      "      11.      Japan’s elaborate, colorful manhole covers (atlasobscura.com)\n",
      "        248 points by bookofjoe 12 hours ago  | hide | 60&nbsp;comments              \n",
      "      \n",
      "                \n",
      "      12.      Why Are Human Teeth So Messed Up? (2017) (sapiens.org)\n",
      "        185 points by BerislavLopac 6 hours ago  | hide | 123&nbsp;comments              \n",
      "      \n",
      "                \n",
      "      13.      Myspace lost all the music its users uploaded between 2003 and 2015 (boingboing.net)\n",
      "        54 points by pmoriarty 2 hours ago  | hide | 11&nbsp;comments              \n",
      "      \n",
      "                \n",
      "      14.      737 MAX Explanation by a Software Engineer (twitter.com)\n",
      "        492 points by paulsutter 9 hours ago  | hide | 163&nbsp;comments              \n",
      "      \n",
      "                \n",
      "      15.      A Short Intro to Constraints (zalo.github.io)\n",
      "        95 points by nkoren 8 hours ago  | hide | 9&nbsp;comments              \n",
      "      \n",
      "                \n",
      "      16.      Uber and Airbnb Alumni Fuel Tech’s Next Wave (nytimes.com)\n",
      "        78 points by mdev 8 hours ago  | hide | 107&nbsp;comments              \n",
      "      \n",
      "                \n",
      "      17.      Rust Cookbook (rust-lang-nursery.github.io)\n",
      "        252 points by ingve 8 hours ago  | hide | 33&nbsp;comments              \n",
      "      \n",
      "                \n",
      "      18.      RLgraph: Robust, incrementally testable reinforcement learning (rlgraph.github.io)\n",
      "        15 points by k_f 4 hours ago  | hide | discuss              \n",
      "      \n",
      "                \n",
      "      19.      Randomly Generated N64 Games [video] (youtube.com)\n",
      "        8 points by bane 2 hours ago  | hide | 1&nbsp;comment              \n",
      "      \n",
      "                \n",
      "      20.      Sketch raises $20M in Series A funding (techcrunch.com)\n",
      "        163 points by 3stripe 14 hours ago  | hide | 111&nbsp;comments              \n",
      "      \n",
      "                \n",
      "      21.      The Untold History of Arduino (2016) (arduinohistory.github.io)\n",
      "        145 points by cristoperb 11 hours ago  | hide | 24&nbsp;comments              \n",
      "      \n",
      "                \n",
      "      22.      Gurdjieff and the Women of ‘The Rope’ (1997) (gurdjieff.org)\n",
      "        29 points by acsillag 6 hours ago  | hide | 8&nbsp;comments              \n",
      "      \n",
      "                \n",
      "      23.      Environmental stress contributes to obesity and diabetes (2015) (nautil.us)\n",
      "        24 points by mhalle 5 hours ago  | hide | 2&nbsp;comments              \n",
      "      \n",
      "                \n",
      "      24.      Picotorrent: a tiny, hackable BitTorrent client (github.com)\n",
      "        81 points by seddin 11 hours ago  | hide | 20&nbsp;comments              \n",
      "      \n",
      "                \n",
      "      25.      Questions on the Future of Open Source (gist.github.com)\n",
      "        17 points by diegopacheco 5 hours ago  | hide | 2&nbsp;comments              \n",
      "      \n",
      "                \n",
      "      26.      Chromostereopsis (2002) (ritsumei.ac.jp)\n",
      "        13 points by Tomte 4 hours ago  | hide | 8&nbsp;comments              \n",
      "      \n",
      "                \n",
      "      27.      First Recorded Usage of “Hacker” (2008) (manybutfinite.com)\n",
      "        17 points by dang 3 hours ago  | hide | 4&nbsp;comments              \n",
      "      \n",
      "                \n",
      "      28.      How to build a distributed throttling system with Nginx, Lua, and Redis (leandromoreira.com.br)\n",
      "        110 points by dreampeppers99 13 hours ago  | hide | 12&nbsp;comments              \n",
      "      \n",
      "                \n",
      "      29.      Ask HN: What do recruiters look for in a GitHub profile?\n",
      "        150 points by passenger 8 hours ago  | hide | 166&nbsp;comments              \n",
      "      \n",
      "                \n",
      "      30.      Is Someone Hijacking Google Images?\n",
      "        22 points by squarefoot 2 hours ago  | hide | 12&nbsp;comments              \n",
      "      \n",
      "            More\n",
      "  \n",
      "\n",
      "\n",
      "        Applications are open for YC Summer 2019\n",
      "      Guidelines\n",
      "        | FAQ\n",
      "        | Support\n",
      "        | API\n",
      "        | Security\n",
      "        | Lists\n",
      "        | Bookmarklet\n",
      "        | Legal\n",
      "        | Apply to YC\n",
      "        | ContactSearch:\n",
      "          \n",
      "            \n",
      "      \n",
      "  \n",
      "\n"
     ]
    }
   ],
   "source": [
    "import re\n",
    "\n",
    "# Remove HTML tags using RegEx\n",
    "pattern = re.compile(r'<.*?>')  # tags look like <...>\n",
    "print(pattern.sub('', r.text))  # replace them with blank"
   ]
  },
  {
   "cell_type": "code",
   "execution_count": 6,
   "metadata": {},
   "outputs": [
    {
     "name": "stdout",
     "output_type": "stream",
     "text": [
      "\n",
      "            \n",
      "          \n",
      "        Hacker News\n",
      "        \n",
      "                  Hacker News\n",
      "              new | past | comments | ask | show | jobs | submit            \n",
      "                              login\n",
      "                          \n",
      "              \n",
      "\n",
      "              \n",
      "      1.      Alan Kay on the Meaning of “Object-Oriented Programming” (2003) (purl.org)\n",
      "        211 points by tosh 6 hours ago  | hide | 132 comments              \n",
      "      \n",
      "                \n",
      "      2.      Thinkpad X210 (greer.fm)\n",
      "        752 points by MYEUHD 14 hours ago  | hide | 379 comments              \n",
      "      \n",
      "                \n",
      "      3.      Matrix 1.0 – Are We Ready Yet? (matrix.org)\n",
      "        89 points by jaywink 4 hours ago  | hide | 24 comments              \n",
      "      \n",
      "                \n",
      "      4.      The Unix-Haters Handbook (1994) [pdf] (mit.edu)\n",
      "        100 points by imran3740 5 hours ago  | hide | 37 comments              \n",
      "      \n",
      "                \n",
      "      5.      An entrepreneur has built a one-metre-long stretch of motorway in Romania (bbc.com)\n",
      "        167 points by Happy4000 8 hours ago  | hide | 77 comments              \n",
      "      \n",
      "                \n",
      "      6.      Higher-Order Type-Level Programming in Haskell [pdf] (microsoft.com)\n",
      "        37 points by justinhj 3 hours ago  | hide | discuss              \n",
      "      \n",
      "                \n",
      "      7.      RPCS3 PS3 Emulator – January 2019 Progress Report (rpcs3.net)\n",
      "        116 points by pplonski86 7 hours ago  | hide | 46 comments              \n",
      "      \n",
      "                \n",
      "      8.      Atlas observes light scattering off light (atlas.cern)\n",
      "        10 points by ars 2 hours ago  | hide | discuss              \n",
      "      \n",
      "                \n",
      "      9.      Vim Anti-Patterns (2012) (sanctum.geek.nz)\n",
      "        179 points by lelf 6 hours ago  | hide | 127 comments              \n",
      "      \n",
      "                \n",
      "      10.      Nile shipwreck discovery proves Herodotus right (theguardian.com)\n",
      "        183 points by longdefeat 12 hours ago  | hide | 33 comments              \n",
      "      \n",
      "                \n",
      "      11.      Japan’s elaborate, colorful manhole covers (atlasobscura.com)\n",
      "        248 points by bookofjoe 12 hours ago  | hide | 60 comments              \n",
      "      \n",
      "                \n",
      "      12.      Why Are Human Teeth So Messed Up? (2017) (sapiens.org)\n",
      "        185 points by BerislavLopac 6 hours ago  | hide | 123 comments              \n",
      "      \n",
      "                \n",
      "      13.      Myspace lost all the music its users uploaded between 2003 and 2015 (boingboing.net)\n",
      "        54 points by pmoriarty 2 hours ago  | hide | 11 comments              \n",
      "      \n",
      "                \n",
      "      14.      737 MAX Explanation by a Software Engineer (twitter.com)\n",
      "        492 points by paulsutter 9 hours ago  | hide | 163 comments              \n",
      "      \n",
      "                \n",
      "      15.      A Short Intro to Constraints (zalo.github.io)\n",
      "        95 points by nkoren 8 hours ago  | hide | 9 comments              \n",
      "      \n",
      "                \n",
      "      16.      Uber and Airbnb Alumni Fuel Tech’s Next Wave (nytimes.com)\n",
      "        78 points by mdev 8 hours ago  | hide | 107 comments              \n",
      "      \n",
      "                \n",
      "      17.      Rust Cookbook (rust-lang-nursery.github.io)\n",
      "        252 points by ingve 8 hours ago  | hide | 33 comments              \n",
      "      \n",
      "                \n",
      "      18.      RLgraph: Robust, incrementally testable reinforcement learning (rlgraph.github.io)\n",
      "        15 points by k_f 4 hours ago  | hide | discuss              \n",
      "      \n",
      "                \n",
      "      19.      Randomly Generated N64 Games [video] (youtube.com)\n",
      "        8 points by bane 2 hours ago  | hide | 1 comment              \n",
      "      \n",
      "                \n",
      "      20.      Sketch raises $20M in Series A funding (techcrunch.com)\n",
      "        163 points by 3stripe 14 hours ago  | hide | 111 comments              \n",
      "      \n",
      "                \n",
      "      21.      The Untold History of Arduino (2016) (arduinohistory.github.io)\n",
      "        145 points by cristoperb 11 hours ago  | hide | 24 comments              \n",
      "      \n",
      "                \n",
      "      22.      Gurdjieff and the Women of ‘The Rope’ (1997) (gurdjieff.org)\n",
      "        29 points by acsillag 6 hours ago  | hide | 8 comments              \n",
      "      \n",
      "                \n",
      "      23.      Environmental stress contributes to obesity and diabetes (2015) (nautil.us)\n",
      "        24 points by mhalle 5 hours ago  | hide | 2 comments              \n",
      "      \n",
      "                \n",
      "      24.      Picotorrent: a tiny, hackable BitTorrent client (github.com)\n",
      "        81 points by seddin 11 hours ago  | hide | 20 comments              \n",
      "      \n",
      "                \n",
      "      25.      Questions on the Future of Open Source (gist.github.com)\n",
      "        17 points by diegopacheco 5 hours ago  | hide | 2 comments              \n",
      "      \n",
      "                \n",
      "      26.      Chromostereopsis (2002) (ritsumei.ac.jp)\n",
      "        13 points by Tomte 4 hours ago  | hide | 8 comments              \n",
      "      \n",
      "                \n",
      "      27.      First Recorded Usage of “Hacker” (2008) (manybutfinite.com)\n",
      "        17 points by dang 3 hours ago  | hide | 4 comments              \n",
      "      \n",
      "                \n",
      "      28.      How to build a distributed throttling system with Nginx, Lua, and Redis (leandromoreira.com.br)\n",
      "        110 points by dreampeppers99 13 hours ago  | hide | 12 comments              \n",
      "      \n",
      "                \n",
      "      29.      Ask HN: What do recruiters look for in a GitHub profile?\n",
      "        150 points by passenger 8 hours ago  | hide | 166 comments              \n",
      "      \n",
      "                \n",
      "      30.      Is Someone Hijacking Google Images?\n",
      "        22 points by squarefoot 2 hours ago  | hide | 12 comments              \n",
      "      \n",
      "            More\n",
      "  \n",
      "\n",
      "\n",
      "        Applications are open for YC Summer 2019\n",
      "      Guidelines\n",
      "        | FAQ\n",
      "        | Support\n",
      "        | API\n",
      "        | Security\n",
      "        | Lists\n",
      "        | Bookmarklet\n",
      "        | Legal\n",
      "        | Apply to YC\n",
      "        | ContactSearch:\n",
      "          \n",
      "            \n",
      "      \n",
      "  \n",
      "\n"
     ]
    }
   ],
   "source": [
    "from bs4 import BeautifulSoup\n",
    "\n",
    "# Remove HTML tags using Beautiful Soup library\n",
    "soup = BeautifulSoup(r.text, \"html5lib\")\n",
    "print(soup.get_text())"
   ]
  },
  {
   "cell_type": "code",
   "execution_count": 7,
   "metadata": {
    "scrolled": true
   },
   "outputs": [
    {
     "data": {
      "text/plain": [
       "<tr class=\"athing\" id=\"19415983\">\n",
       "      <td align=\"right\" class=\"title\" valign=\"top\"><span class=\"rank\">1.</span></td>      <td class=\"votelinks\" valign=\"top\"><center><a href=\"vote?id=19415983&amp;how=up&amp;goto=news\" id=\"up_19415983\"><div class=\"votearrow\" title=\"upvote\"></div></a></center></td><td class=\"title\"><a class=\"storylink\" href=\"http://www.purl.org/stefan_ram/pub/doc_kay_oop_en\">Alan Kay on the Meaning of “Object-Oriented Programming” (2003)</a><span class=\"sitebit comhead\"> (<a href=\"from?site=purl.org\"><span class=\"sitestr\">purl.org</span></a>)</span></td></tr>"
      ]
     },
     "execution_count": 7,
     "metadata": {},
     "output_type": "execute_result"
    }
   ],
   "source": [
    "# Find all articles\n",
    "summaries = soup.find_all(\"tr\", class_=\"athing\")\n",
    "summaries[0]"
   ]
  },
  {
   "cell_type": "code",
   "execution_count": 8,
   "metadata": {},
   "outputs": [
    {
     "data": {
      "text/plain": [
       "'Alan Kay on the Meaning of “Object-Oriented Programming” (2003)'"
      ]
     },
     "execution_count": 8,
     "metadata": {},
     "output_type": "execute_result"
    }
   ],
   "source": [
    "# Extract title\n",
    "summaries[0].find(\"a\", class_=\"storylink\").get_text().strip()"
   ]
  },
  {
   "cell_type": "code",
   "execution_count": 9,
   "metadata": {},
   "outputs": [
    {
     "name": "stdout",
     "output_type": "stream",
     "text": [
      "30 Article summaries found. Sample:\n",
      "Alan Kay on the Meaning of “Object-Oriented Programming” (2003)\n"
     ]
    }
   ],
   "source": [
    "# Find all articles, extract titles\n",
    "articles = []\n",
    "summaries = soup.find_all(\"tr\", class_=\"athing\")\n",
    "for summary in summaries:\n",
    "    title = summary.find(\"a\", class_=\"storylink\").get_text().strip()\n",
    "    articles.append((title))\n",
    "\n",
    "print(len(articles), \"Article summaries found. Sample:\")\n",
    "print(articles[0])"
   ]
  },
  {
   "cell_type": "markdown",
   "metadata": {
    "collapsed": true
   },
   "source": [
    "## Normalization"
   ]
  },
  {
   "cell_type": "markdown",
   "metadata": {},
   "source": [
    "### Case Normalization"
   ]
  },
  {
   "cell_type": "code",
   "execution_count": 10,
   "metadata": {},
   "outputs": [
    {
     "name": "stdout",
     "output_type": "stream",
     "text": [
      "The first time you see The Second Renaissance it may look boring. Look at it at least twice and definitely watch part 2. It will change your view of the matrix. Are the human people the ones who started the war ? Is AI a bad thing ?\n"
     ]
    }
   ],
   "source": [
    "# Sample text\n",
    "text = \"The first time you see The Second Renaissance it may look boring. Look at it at least twice and definitely watch part 2. It will change your view of the matrix. Are the human people the ones who started the war ? Is AI a bad thing ?\"\n",
    "print(text)"
   ]
  },
  {
   "cell_type": "code",
   "execution_count": 11,
   "metadata": {},
   "outputs": [
    {
     "name": "stdout",
     "output_type": "stream",
     "text": [
      "the first time you see the second renaissance it may look boring. look at it at least twice and definitely watch part 2. it will change your view of the matrix. are the human people the ones who started the war ? is ai a bad thing ?\n"
     ]
    }
   ],
   "source": [
    "# Convert to lowercase\n",
    "text = text.lower() \n",
    "print(text)"
   ]
  },
  {
   "cell_type": "markdown",
   "metadata": {},
   "source": [
    "### Punctuation Removal"
   ]
  },
  {
   "cell_type": "code",
   "execution_count": 12,
   "metadata": {},
   "outputs": [
    {
     "name": "stdout",
     "output_type": "stream",
     "text": [
      "the first time you see the second renaissance it may look boring  look at it at least twice and definitely watch part 2  it will change your view of the matrix  are the human people the ones who started the war   is ai a bad thing  \n"
     ]
    }
   ],
   "source": [
    "import re\n",
    "\n",
    "# Remove punctuation characters\n",
    "text = re.sub(r\"[^a-zA-Z0-9]\", \" \", text) \n",
    "print(text)"
   ]
  },
  {
   "cell_type": "markdown",
   "metadata": {},
   "source": [
    "## Tokenization"
   ]
  },
  {
   "cell_type": "code",
   "execution_count": 13,
   "metadata": {},
   "outputs": [
    {
     "name": "stdout",
     "output_type": "stream",
     "text": [
      "['the', 'first', 'time', 'you', 'see', 'the', 'second', 'renaissance', 'it', 'may', 'look', 'boring', 'look', 'at', 'it', 'at', 'least', 'twice', 'and', 'definitely', 'watch', 'part', '2', 'it', 'will', 'change', 'your', 'view', 'of', 'the', 'matrix', 'are', 'the', 'human', 'people', 'the', 'ones', 'who', 'started', 'the', 'war', 'is', 'ai', 'a', 'bad', 'thing']\n"
     ]
    }
   ],
   "source": [
    "# Split text into tokens (words)\n",
    "words = text.split()\n",
    "print(words)"
   ]
  },
  {
   "cell_type": "markdown",
   "metadata": {},
   "source": [
    "### NLTK: Natural Language ToolKit"
   ]
  },
  {
   "cell_type": "code",
   "execution_count": 14,
   "metadata": {},
   "outputs": [],
   "source": [
    "import os\n",
    "import nltk\n",
    "nltk.data.path.append(os.path.join(os.getcwd(), \"nltk_data\"))"
   ]
  },
  {
   "cell_type": "code",
   "execution_count": 15,
   "metadata": {},
   "outputs": [
    {
     "name": "stdout",
     "output_type": "stream",
     "text": [
      "Dr. Smith graduated from the University of Washington. He later started an analytics firm called Lux, which catered to enterprise customers.\n"
     ]
    }
   ],
   "source": [
    "# Another sample text\n",
    "text = \"Dr. Smith graduated from the University of Washington. He later started an analytics firm called Lux, which catered to enterprise customers.\"\n",
    "print(text)"
   ]
  },
  {
   "cell_type": "code",
   "execution_count": 16,
   "metadata": {},
   "outputs": [
    {
     "name": "stdout",
     "output_type": "stream",
     "text": [
      "['Dr.', 'Smith', 'graduated', 'from', 'the', 'University', 'of', 'Washington', '.', 'He', 'later', 'started', 'an', 'analytics', 'firm', 'called', 'Lux', ',', 'which', 'catered', 'to', 'enterprise', 'customers', '.']\n"
     ]
    }
   ],
   "source": [
    "from nltk.tokenize import word_tokenize\n",
    "\n",
    "# Split text into words using NLTK\n",
    "words = word_tokenize(text)\n",
    "print(words)"
   ]
  },
  {
   "cell_type": "code",
   "execution_count": 17,
   "metadata": {},
   "outputs": [
    {
     "name": "stdout",
     "output_type": "stream",
     "text": [
      "['Dr. Smith graduated from the University of Washington.', 'He later started an analytics firm called Lux, which catered to enterprise customers.']\n"
     ]
    }
   ],
   "source": [
    "from nltk.tokenize import sent_tokenize\n",
    "\n",
    "# Split text into sentences\n",
    "sentences = sent_tokenize(text)\n",
    "print(sentences)"
   ]
  },
  {
   "cell_type": "code",
   "execution_count": 18,
   "metadata": {},
   "outputs": [
    {
     "name": "stdout",
     "output_type": "stream",
     "text": [
      "['i', 'me', 'my', 'myself', 'we', 'our', 'ours', 'ourselves', 'you', \"you're\", \"you've\", \"you'll\", \"you'd\", 'your', 'yours', 'yourself', 'yourselves', 'he', 'him', 'his', 'himself', 'she', \"she's\", 'her', 'hers', 'herself', 'it', \"it's\", 'its', 'itself', 'they', 'them', 'their', 'theirs', 'themselves', 'what', 'which', 'who', 'whom', 'this', 'that', \"that'll\", 'these', 'those', 'am', 'is', 'are', 'was', 'were', 'be', 'been', 'being', 'have', 'has', 'had', 'having', 'do', 'does', 'did', 'doing', 'a', 'an', 'the', 'and', 'but', 'if', 'or', 'because', 'as', 'until', 'while', 'of', 'at', 'by', 'for', 'with', 'about', 'against', 'between', 'into', 'through', 'during', 'before', 'after', 'above', 'below', 'to', 'from', 'up', 'down', 'in', 'out', 'on', 'off', 'over', 'under', 'again', 'further', 'then', 'once', 'here', 'there', 'when', 'where', 'why', 'how', 'all', 'any', 'both', 'each', 'few', 'more', 'most', 'other', 'some', 'such', 'no', 'nor', 'not', 'only', 'own', 'same', 'so', 'than', 'too', 'very', 's', 't', 'can', 'will', 'just', 'don', \"don't\", 'should', \"should've\", 'now', 'd', 'll', 'm', 'o', 're', 've', 'y', 'ain', 'aren', \"aren't\", 'couldn', \"couldn't\", 'didn', \"didn't\", 'doesn', \"doesn't\", 'hadn', \"hadn't\", 'hasn', \"hasn't\", 'haven', \"haven't\", 'isn', \"isn't\", 'ma', 'mightn', \"mightn't\", 'mustn', \"mustn't\", 'needn', \"needn't\", 'shan', \"shan't\", 'shouldn', \"shouldn't\", 'wasn', \"wasn't\", 'weren', \"weren't\", 'won', \"won't\", 'wouldn', \"wouldn't\"]\n"
     ]
    }
   ],
   "source": [
    "# List stop words\n",
    "from nltk.corpus import stopwords\n",
    "print(stopwords.words(\"english\"))"
   ]
  },
  {
   "cell_type": "code",
   "execution_count": 19,
   "metadata": {},
   "outputs": [
    {
     "name": "stdout",
     "output_type": "stream",
     "text": [
      "['the', 'first', 'time', 'you', 'see', 'the', 'second', 'renaissance', 'it', 'may', 'look', 'boring', 'look', 'at', 'it', 'at', 'least', 'twice', 'and', 'definitely', 'watch', 'part', '2', 'it', 'will', 'change', 'your', 'view', 'of', 'the', 'matrix', 'are', 'the', 'human', 'people', 'the', 'ones', 'who', 'started', 'the', 'war', 'is', 'ai', 'a', 'bad', 'thing']\n"
     ]
    }
   ],
   "source": [
    "# Reset text\n",
    "text = \"The first time you see The Second Renaissance it may look boring. Look at it at least twice and definitely watch part 2. It will change your view of the matrix. Are the human people the ones who started the war ? Is AI a bad thing ?\"\n",
    "\n",
    "# Normalize it\n",
    "text = re.sub(r\"[^a-zA-Z0-9]\", \" \", text.lower())\n",
    "\n",
    "# Tokenize it\n",
    "words = text.split()\n",
    "print(words)"
   ]
  },
  {
   "cell_type": "code",
   "execution_count": 20,
   "metadata": {},
   "outputs": [
    {
     "name": "stdout",
     "output_type": "stream",
     "text": [
      "['first', 'time', 'see', 'second', 'renaissance', 'may', 'look', 'boring', 'look', 'least', 'twice', 'definitely', 'watch', 'part', '2', 'change', 'view', 'matrix', 'human', 'people', 'ones', 'started', 'war', 'ai', 'bad', 'thing']\n"
     ]
    }
   ],
   "source": [
    "# Remove stop words\n",
    "words = [w for w in words if w not in stopwords.words(\"english\")]\n",
    "print(words)"
   ]
  },
  {
   "cell_type": "markdown",
   "metadata": {},
   "source": [
    "### Sentence Parsing"
   ]
  },
  {
   "cell_type": "code",
   "execution_count": 21,
   "metadata": {},
   "outputs": [
    {
     "name": "stdout",
     "output_type": "stream",
     "text": [
      "(S\n",
      "  (NP I)\n",
      "  (VP\n",
      "    (VP (V shot) (NP (Det an) (N elephant)))\n",
      "    (PP (P in) (NP (Det my) (N pajamas)))))\n",
      "(S\n",
      "  (NP I)\n",
      "  (VP\n",
      "    (V shot)\n",
      "    (NP (Det an) (N elephant) (PP (P in) (NP (Det my) (N pajamas))))))\n"
     ]
    }
   ],
   "source": [
    "import nltk\n",
    "\n",
    "# Define a custom grammar\n",
    "my_grammar = nltk.CFG.fromstring(\"\"\"\n",
    "S -> NP VP\n",
    "PP -> P NP\n",
    "NP -> Det N | Det N PP | 'I'\n",
    "VP -> V NP | VP PP\n",
    "Det -> 'an' | 'my'\n",
    "N -> 'elephant' | 'pajamas'\n",
    "V -> 'shot'\n",
    "P -> 'in'\n",
    "\"\"\")\n",
    "parser = nltk.ChartParser(my_grammar)\n",
    "\n",
    "# Parse a sentence\n",
    "sentence = word_tokenize(\"I shot an elephant in my pajamas\")\n",
    "for tree in parser.parse(sentence):\n",
    "    print(tree)"
   ]
  },
  {
   "cell_type": "markdown",
   "metadata": {},
   "source": [
    "## Stemming & Lemmatization\n",
    "\n",
    "### Stemming"
   ]
  },
  {
   "cell_type": "code",
   "execution_count": 22,
   "metadata": {},
   "outputs": [
    {
     "name": "stdout",
     "output_type": "stream",
     "text": [
      "['first', 'time', 'see', 'second', 'renaiss', 'may', 'look', 'bore', 'look', 'least', 'twice', 'definit', 'watch', 'part', '2', 'chang', 'view', 'matrix', 'human', 'peopl', 'one', 'start', 'war', 'ai', 'bad', 'thing']\n"
     ]
    }
   ],
   "source": [
    "from nltk.stem.porter import PorterStemmer\n",
    "\n",
    "# Reduce words to their stems\n",
    "stemmed = [PorterStemmer().stem(w) for w in words]\n",
    "print(stemmed)"
   ]
  },
  {
   "cell_type": "markdown",
   "metadata": {},
   "source": [
    "### Lemmatization"
   ]
  },
  {
   "cell_type": "code",
   "execution_count": 23,
   "metadata": {},
   "outputs": [
    {
     "name": "stdout",
     "output_type": "stream",
     "text": [
      "['first', 'time', 'see', 'second', 'renaissance', 'may', 'look', 'boring', 'look', 'least', 'twice', 'definitely', 'watch', 'part', '2', 'change', 'view', 'matrix', 'human', 'people', 'one', 'started', 'war', 'ai', 'bad', 'thing']\n"
     ]
    }
   ],
   "source": [
    "from nltk.stem.wordnet import WordNetLemmatizer\n",
    "\n",
    "# Reduce words to their root form\n",
    "lemmed = [WordNetLemmatizer().lemmatize(w) for w in words]\n",
    "print(lemmed)"
   ]
  },
  {
   "cell_type": "code",
   "execution_count": 24,
   "metadata": {},
   "outputs": [
    {
     "name": "stdout",
     "output_type": "stream",
     "text": [
      "['first', 'time', 'see', 'second', 'renaissance', 'may', 'look', 'bore', 'look', 'least', 'twice', 'definitely', 'watch', 'part', '2', 'change', 'view', 'matrix', 'human', 'people', 'one', 'start', 'war', 'ai', 'bad', 'thing']\n"
     ]
    }
   ],
   "source": [
    "# Lemmatize verbs by specifying pos\n",
    "lemmed = [WordNetLemmatizer().lemmatize(w, pos='v') for w in lemmed]\n",
    "print(lemmed)"
   ]
  },
  {
   "cell_type": "code",
   "execution_count": null,
   "metadata": {},
   "outputs": [],
   "source": []
  }
 ],
 "metadata": {
  "kernelspec": {
   "display_name": "Python 3",
   "language": "python",
   "name": "python3"
  },
  "language_info": {
   "codemirror_mode": {
    "name": "ipython",
    "version": 3
   },
   "file_extension": ".py",
   "mimetype": "text/x-python",
   "name": "python",
   "nbconvert_exporter": "python",
   "pygments_lexer": "ipython3",
   "version": "3.6.3"
  }
 },
 "nbformat": 4,
 "nbformat_minor": 2
}
